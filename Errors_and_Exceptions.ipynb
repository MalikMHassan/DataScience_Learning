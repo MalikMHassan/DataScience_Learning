{
  "nbformat": 4,
  "nbformat_minor": 0,
  "metadata": {
    "colab": {
      "provenance": [],
      "authorship_tag": "ABX9TyMUxJnnkFo9Uc2x900tRYzR",
      "include_colab_link": true
    },
    "kernelspec": {
      "name": "python3",
      "display_name": "Python 3"
    },
    "language_info": {
      "name": "python"
    }
  },
  "cells": [
    {
      "cell_type": "markdown",
      "metadata": {
        "id": "view-in-github",
        "colab_type": "text"
      },
      "source": [
        "<a href=\"https://colab.research.google.com/github/MalikMHassan/DataScience_Learning/blob/main/Errors_and_Exceptions.ipynb\" target=\"_parent\"><img src=\"https://colab.research.google.com/assets/colab-badge.svg\" alt=\"Open In Colab\"/></a>"
      ]
    },
    {
      "cell_type": "code",
      "execution_count": null,
      "metadata": {
        "id": "x7JPVohkplxH"
      },
      "outputs": [],
      "source": [
        "# 8.1. Syntax Errors\n",
        "# product syntax error\n",
        "# while True print('Hello world')\n",
        "# do not run ito go to infinet loop\n",
        "# break with CTRL+M+I\n",
        "# while True:\n",
        "#  print('Hello world')"
      ]
    },
    {
      "cell_type": "code",
      "source": [
        "# 8.2. Exceptions\n",
        "# throw exception\n",
        "# 10 * (1/0)\n",
        "# 10 * (1/1)"
      ],
      "metadata": {
        "id": "IWmvzzAvq6Xa",
        "colab": {
          "base_uri": "https://localhost:8080/"
        },
        "outputId": "87fbc810-c62d-4eff-d8eb-6af14d89ce8c"
      },
      "execution_count": 2,
      "outputs": [
        {
          "output_type": "execute_result",
          "data": {
            "text/plain": [
              "10.0"
            ]
          },
          "metadata": {},
          "execution_count": 2
        }
      ]
    },
    {
      "cell_type": "code",
      "source": [
        "# Built-in Exception Handling (Without Custom Error)\n",
        "def divide_numbers(a, b):\n",
        "    try:\n",
        "        result = a / b\n",
        "    except ZeroDivisionError as e:\n",
        "        print(f\"1- Error: Cannot divide by zero → {e}\")\n",
        "    except TypeError as e:\n",
        "        print(f\"2- Error: Inputs must be numbers → {e}\")\n",
        "    else:\n",
        "        print(f\"==>Success: {a} / {b} = {result}\")\n",
        "    finally:\n",
        "        print(\"Done- Execution completed (cleanup, logging, etc.)\")\n",
        "# Test it\n",
        "divide_numbers(10, 2)\n",
        "divide_numbers(10, 0)\n",
        "divide_numbers(10, \"five\")"
      ],
      "metadata": {
        "colab": {
          "base_uri": "https://localhost:8080/"
        },
        "id": "oP9fblKl-YVg",
        "outputId": "e1167128-bbdb-4c20-8bf6-c0739d23f192"
      },
      "execution_count": 39,
      "outputs": [
        {
          "output_type": "stream",
          "name": "stdout",
          "text": [
            "==>Success: 10 / 2 = 5.0\n",
            "Done- Execution completed (cleanup, logging, etc.)\n",
            "1- Error: Cannot divide by zero → division by zero\n",
            "Done- Execution completed (cleanup, logging, etc.)\n",
            "2- Error: Inputs must be numbers → unsupported operand type(s) for /: 'int' and 'str'\n",
            "Done- Execution completed (cleanup, logging, etc.)\n"
          ]
        }
      ]
    },
    {
      "cell_type": "code",
      "source": [
        "# Custom Exception Handling (Defining Your Own)\n",
        "class ValueTooSmallError(Exception):\n",
        "    \"\"\"Raised when the input value is too small\"\"\"\n",
        "    pass\n",
        "\n",
        "def validate_input(x):\n",
        "    try:\n",
        "        if x < 10:\n",
        "            raise ValueTooSmallError(f\"{x} is less than the allowed minimum of 10.\")\n",
        "\n",
        "    except ValueTooSmallError as e:\n",
        "        print(f\"Custom Error Caught → {e}\")\n",
        "\n",
        "    else:\n",
        "        print(f\"{x} is a valid input.\")\n",
        "\n",
        "    finally:\n",
        "        print(\"Done : Validation process complete.\")\n",
        "\n",
        "# Test it\n",
        "validate_input(5)\n",
        "validate_input(15)\n"
      ],
      "metadata": {
        "colab": {
          "base_uri": "https://localhost:8080/"
        },
        "id": "ovH3TkG--0HH",
        "outputId": "f8522588-b025-47ee-8f58-e908166f14b2"
      },
      "execution_count": 41,
      "outputs": [
        {
          "output_type": "stream",
          "name": "stdout",
          "text": [
            "Custom Error Caught → 5 is less than the allowed minimum of 10.\n",
            "Done : Validation process complete.\n",
            "15 is a valid input.\n",
            "Done : Validation process complete.\n"
          ]
        }
      ]
    },
    {
      "cell_type": "code",
      "source": [
        "# Full Workflow Example: Validating Records in a Simulated ETL Process\n",
        "class InvalidRecordError(Exception):\n",
        "    \"\"\"Raised when a record fails data validation\"\"\"\n",
        "    def __init__(self, record_id, message):\n",
        "        super().__init__(f\"Record {record_id} → {message}\")\n",
        "        self.record_id = record_id\n",
        "        self.message = message\n",
        "\n",
        "def process_record(record_id, data):\n",
        "    try:\n",
        "        # Logs each record being processed\n",
        "        print(f\"🔍 Processing Record {record_id}: {data}\")\n",
        "\n",
        "        # Built-in validations\n",
        "        if not isinstance(data, dict):\n",
        "          # If the data isn’t a dictionary, it throws a TypeError (Python built-in).\n",
        "            raise TypeError(\"Expected a dictionary format\")\n",
        "\n",
        "        if 'age' not in data or data['age'] is None:\n",
        "            # Ensures the age field exists and isn’t empty.\n",
        "            raise InvalidRecordError(record_id, \"Missing 'age' field\")\n",
        "\n",
        "        if data['age'] < 0:\n",
        "            # Negative age isn't allowed → raises your custom exception.\n",
        "            raise InvalidRecordError(record_id, \"Age cannot be negative\")\n",
        "\n",
        "    except InvalidRecordError as e:\n",
        "        # First handles your domain errors.\n",
        "        print(f\"🧨 Custom Error Caught: {e}\")\n",
        "    except (TypeError, ValueError) as e:\n",
        "        # Second handles Python’s built-in type/value errors.\n",
        "        print(f\"⚠️ System Error Caught: {type(e).__name__} → {e}\")\n",
        "    else:\n",
        "        # only runs if no error was thrown.\n",
        "        print(f\"✅ Record {record_id} passed validation.\")\n",
        "    finally:\n",
        "        # runs every time—perfect for logging, releasing resources, or sending audit events.\n",
        "        print(f\"📌 Record {record_id} validation cycle complete.\\n\")\n",
        "\n",
        "# Simulated batch of records\n",
        "records = {\n",
        "    1: {'age': 32},\n",
        "    2: {'age': -5},\n",
        "    3: None,\n",
        "    4: {'name': 'Alice'},\n",
        "    5: {'age': 44}\n",
        "}\n",
        "\n",
        "for record_id, data in records.items():\n",
        "    process_record(record_id, data)\n"
      ],
      "metadata": {
        "colab": {
          "base_uri": "https://localhost:8080/"
        },
        "id": "DNEgblAyAQDB",
        "outputId": "dff90196-f5e1-44c2-9df6-d6c2886950aa"
      },
      "execution_count": 42,
      "outputs": [
        {
          "output_type": "stream",
          "name": "stdout",
          "text": [
            "🔍 Processing Record 1: {'age': 32}\n",
            "✅ Record 1 passed validation.\n",
            "📌 Record 1 validation cycle complete.\n",
            "\n",
            "🔍 Processing Record 2: {'age': -5}\n",
            "🧨 Custom Error Caught: Record 2 → Age cannot be negative\n",
            "📌 Record 2 validation cycle complete.\n",
            "\n",
            "🔍 Processing Record 3: None\n",
            "⚠️ System Error Caught: TypeError → Expected a dictionary format\n",
            "📌 Record 3 validation cycle complete.\n",
            "\n",
            "🔍 Processing Record 4: {'name': 'Alice'}\n",
            "🧨 Custom Error Caught: Record 4 → Missing 'age' field\n",
            "📌 Record 4 validation cycle complete.\n",
            "\n",
            "🔍 Processing Record 5: {'age': 44}\n",
            "✅ Record 5 passed validation.\n",
            "📌 Record 5 validation cycle complete.\n",
            "\n"
          ]
        }
      ]
    },
    {
      "cell_type": "code",
      "source": [
        "# 8.3. Handling Exceptions\n",
        "# A try statement may have more than one except clause, to specify handlers for different exceptions. At most one handler will be executed. Handlers only handle exceptions that\n",
        "# occur in the corresponding try clause, not in other handlers of the same try statement. An except clause may name multiple exceptions as a parenthesized tuple\n",
        "\n",
        "while True:\n",
        "    try:\n",
        "        x = int(input(\"Please enter a number: \"))\n",
        "        break\n",
        "    except ValueError:\n",
        "        print(\"Oops!  That was no valid number.  Try again...\")\n"
      ],
      "metadata": {
        "colab": {
          "base_uri": "https://localhost:8080/"
        },
        "id": "tXQfpVhqyFeJ",
        "outputId": "4bf7fec6-fe7a-4344-a49a-cf85369b9ce8"
      },
      "execution_count": 12,
      "outputs": [
        {
          "name": "stdout",
          "output_type": "stream",
          "text": [
            "Please enter a number: 4\n"
          ]
        }
      ]
    },
    {
      "cell_type": "code",
      "source": [
        "# The except clause may specify a variable after the exception name. The variable is bound to the exception instance which typically has an args attribute that stores the arguments.\n",
        "# For convenience, builtin exception types define __str__() to print all the arguments without explicitly accessing .args.\n",
        "\n",
        "try:\n",
        "    raise Exception('spam', 'eggs')\n",
        "except Exception as inst:\n",
        "    print(type(inst))    # the exception type\n",
        "    print(inst.args)     # arguments stored in .args\n",
        "    print(inst)          # __str__ allows args to be printed directly,\n",
        "                         # but may be overridden in exception subclasses\n",
        "    x, y = inst.args     # unpack args\n",
        "    print('x =', x)\n",
        "    print('y =', y)\n"
      ],
      "metadata": {
        "colab": {
          "base_uri": "https://localhost:8080/"
        },
        "id": "AUHBG7tS0Xkd",
        "outputId": "19f7132c-bebb-40d0-9519-7b87e5c1bf4d"
      },
      "execution_count": 9,
      "outputs": [
        {
          "output_type": "stream",
          "name": "stdout",
          "text": [
            "<class 'Exception'>\n",
            "('spam', 'eggs')\n",
            "('spam', 'eggs')\n",
            "x = spam\n",
            "y = eggs\n"
          ]
        }
      ]
    },
    {
      "cell_type": "code",
      "source": [
        "# BaseException is the common base class of all exceptions. One of its subclasses, Exception, is the base class of all the non-fatal exceptions. Exceptions which are not subclasses\n",
        "# of Exception are not typically handled, because they are used to indicate that the program should terminate. They include SystemExit which is raised by sys.exit() and\n",
        "# KeyboardInterrupt which is raised when a user wishes to interrupt the program.\n",
        "\n",
        "# Exception can be used as a wildcard that catches (almost) everything. However, it is good practice to be as specific as possible with the types of exceptions that we intend to handle,\n",
        "# and to allow any unexpected exceptions to propagate on.\n",
        "\n",
        "import sys\n",
        "try:\n",
        "    f = open('myfile.txt')\n",
        "    s = f.readline()\n",
        "    i = int(s.strip())\n",
        "except OSError as err:\n",
        "    print(\"OS error:\", err)\n",
        "except ValueError:\n",
        "    print(\"Could not convert data to an integer.\")\n",
        "except Exception as err:\n",
        "    print(f\"Unexpected {err=}, {type(err)=}\")\n",
        "    raise\n"
      ],
      "metadata": {
        "colab": {
          "base_uri": "https://localhost:8080/"
        },
        "id": "a9O24fRw0o8w",
        "outputId": "6cd87f1c-7150-4658-cdf6-1798a89ada5c"
      },
      "execution_count": 10,
      "outputs": [
        {
          "output_type": "stream",
          "name": "stdout",
          "text": [
            "OS error: [Errno 2] No such file or directory: 'myfile.txt'\n"
          ]
        }
      ]
    },
    {
      "cell_type": "code",
      "source": [
        "# The try … except statement has an optional else clause, which, when present, must follow all except clauses. It is useful for code that must be executed if the try\n",
        "# clause does not raise an exception. For example:\n",
        "\n",
        "for arg in sys.argv[1:]:\n",
        "    try:\n",
        "        f = open(arg, 'r')\n",
        "    except OSError:\n",
        "        print('cannot open', arg)\n",
        "    else:\n",
        "        print(arg, 'has', len(f.readlines()), 'lines')\n",
        "        f.close()"
      ],
      "metadata": {
        "colab": {
          "base_uri": "https://localhost:8080/"
        },
        "id": "Te4T2YEP1gzj",
        "outputId": "a6c61e71-f733-4822-b15c-4757c60da1a2"
      },
      "execution_count": 11,
      "outputs": [
        {
          "output_type": "stream",
          "name": "stdout",
          "text": [
            "cannot open -f\n",
            "/root/.local/share/jupyter/runtime/kernel-ce555250-4a6a-4f3c-b00b-e2ba710bd880.json has 12 lines\n"
          ]
        }
      ]
    },
    {
      "cell_type": "code",
      "source": [
        "for arg in sys.argv[1:]:\n",
        "    try:\n",
        "        f = open(arg, 'r')\n",
        "    except OSError:\n",
        "        print('cannot open', arg)\n",
        "    else:\n",
        "        print(arg, 'has', len(f.readlines()), 'lines')\n",
        "        f.close()\n"
      ],
      "metadata": {
        "colab": {
          "base_uri": "https://localhost:8080/"
        },
        "id": "aCwFroAP2NbH",
        "outputId": "5055afa6-444a-4f8b-9a57-dbf3fae86bc7"
      },
      "execution_count": 13,
      "outputs": [
        {
          "output_type": "stream",
          "name": "stdout",
          "text": [
            "cannot open -f\n",
            "/root/.local/share/jupyter/runtime/kernel-ce555250-4a6a-4f3c-b00b-e2ba710bd880.json has 12 lines\n"
          ]
        }
      ]
    },
    {
      "cell_type": "code",
      "source": [
        "# The use of the else clause is better than adding additional code to the try clause because it avoids accidentally catching an exception that wasn’t raised by the code\n",
        "#  being protected by the try … except statement.\n",
        "# Exception handlers do not handle only exceptions that occur immediately in the try clause, but also those that occur inside functions that are called (even indirectly)\n",
        "#  in the try clause. For example:\n",
        "def this_fails():\n",
        "    x = 1/0\n",
        "\n",
        "try:\n",
        "    this_fails()\n",
        "except ZeroDivisionError as err:\n",
        "    print('Handling run-time error:', err)\n"
      ],
      "metadata": {
        "colab": {
          "base_uri": "https://localhost:8080/"
        },
        "id": "OGZ4BLnG2aJc",
        "outputId": "19175421-ebcf-4134-a544-908576280804"
      },
      "execution_count": 14,
      "outputs": [
        {
          "output_type": "stream",
          "name": "stdout",
          "text": [
            "Handling run-time error: division by zero\n"
          ]
        }
      ]
    },
    {
      "cell_type": "code",
      "source": [
        "# 8.4. Raising Exceptions\n",
        "# The raise statement allows the programmer to force a specified exception to occur. For example:\n",
        "# raise NameError('HiThere')"
      ],
      "metadata": {
        "colab": {
          "base_uri": "https://localhost:8080/",
          "height": 176
        },
        "id": "0UYH1ewV215F",
        "outputId": "50439a1a-b0b0-4fff-ac2c-ea396cdeb626"
      },
      "execution_count": 15,
      "outputs": [
        {
          "output_type": "error",
          "ename": "NameError",
          "evalue": "HiThere",
          "traceback": [
            "\u001b[0;31m---------------------------------------------------------------------------\u001b[0m",
            "\u001b[0;31mNameError\u001b[0m                                 Traceback (most recent call last)",
            "\u001b[0;32m/tmp/ipython-input-15-338755899.py\u001b[0m in \u001b[0;36m<cell line: 0>\u001b[0;34m()\u001b[0m\n\u001b[1;32m      1\u001b[0m \u001b[0;31m# 8.4. Raising Exceptions\u001b[0m\u001b[0;34m\u001b[0m\u001b[0;34m\u001b[0m\u001b[0m\n\u001b[1;32m      2\u001b[0m \u001b[0;31m# The raise statement allows the programmer to force a specified exception to occur. For example:\u001b[0m\u001b[0;34m\u001b[0m\u001b[0;34m\u001b[0m\u001b[0m\n\u001b[0;32m----> 3\u001b[0;31m \u001b[0;32mraise\u001b[0m \u001b[0mNameError\u001b[0m\u001b[0;34m(\u001b[0m\u001b[0;34m'HiThere'\u001b[0m\u001b[0;34m)\u001b[0m\u001b[0;34m\u001b[0m\u001b[0;34m\u001b[0m\u001b[0m\n\u001b[0m",
            "\u001b[0;31mNameError\u001b[0m: HiThere"
          ]
        }
      ]
    },
    {
      "cell_type": "code",
      "source": [
        "# 8.5. Exception Chaining\n",
        "# If an unhandled exception occurs inside an except section, it will have the exception being handled attached to it and included in the error message:\n",
        "try:\n",
        "    open(\"database.sqlite\")\n",
        "except OSError:\n",
        "    raise RuntimeError(\"unable to handle error\")\n"
      ],
      "metadata": {
        "colab": {
          "base_uri": "https://localhost:8080/",
          "height": 349
        },
        "id": "tlYZI7F_30k6",
        "outputId": "caca5ab2-35eb-45dc-deb6-5df3e80dd906"
      },
      "execution_count": 16,
      "outputs": [
        {
          "output_type": "error",
          "ename": "RuntimeError",
          "evalue": "unable to handle error",
          "traceback": [
            "\u001b[0;31m---------------------------------------------------------------------------\u001b[0m",
            "\u001b[0;31mFileNotFoundError\u001b[0m                         Traceback (most recent call last)",
            "\u001b[0;32m/tmp/ipython-input-16-3317232274.py\u001b[0m in \u001b[0;36m<cell line: 0>\u001b[0;34m()\u001b[0m\n\u001b[1;32m      3\u001b[0m \u001b[0;32mtry\u001b[0m\u001b[0;34m:\u001b[0m\u001b[0;34m\u001b[0m\u001b[0;34m\u001b[0m\u001b[0m\n\u001b[0;32m----> 4\u001b[0;31m     \u001b[0mopen\u001b[0m\u001b[0;34m(\u001b[0m\u001b[0;34m\"database.sqlite\"\u001b[0m\u001b[0;34m)\u001b[0m\u001b[0;34m\u001b[0m\u001b[0;34m\u001b[0m\u001b[0m\n\u001b[0m\u001b[1;32m      5\u001b[0m \u001b[0;32mexcept\u001b[0m \u001b[0mOSError\u001b[0m\u001b[0;34m:\u001b[0m\u001b[0;34m\u001b[0m\u001b[0;34m\u001b[0m\u001b[0m\n",
            "\u001b[0;31mFileNotFoundError\u001b[0m: [Errno 2] No such file or directory: 'database.sqlite'",
            "\nDuring handling of the above exception, another exception occurred:\n",
            "\u001b[0;31mRuntimeError\u001b[0m                              Traceback (most recent call last)",
            "\u001b[0;32m/tmp/ipython-input-16-3317232274.py\u001b[0m in \u001b[0;36m<cell line: 0>\u001b[0;34m()\u001b[0m\n\u001b[1;32m      4\u001b[0m     \u001b[0mopen\u001b[0m\u001b[0;34m(\u001b[0m\u001b[0;34m\"database.sqlite\"\u001b[0m\u001b[0;34m)\u001b[0m\u001b[0;34m\u001b[0m\u001b[0;34m\u001b[0m\u001b[0m\n\u001b[1;32m      5\u001b[0m \u001b[0;32mexcept\u001b[0m \u001b[0mOSError\u001b[0m\u001b[0;34m:\u001b[0m\u001b[0;34m\u001b[0m\u001b[0;34m\u001b[0m\u001b[0m\n\u001b[0;32m----> 6\u001b[0;31m     \u001b[0;32mraise\u001b[0m \u001b[0mRuntimeError\u001b[0m\u001b[0;34m(\u001b[0m\u001b[0;34m\"unable to handle error\"\u001b[0m\u001b[0;34m)\u001b[0m\u001b[0;34m\u001b[0m\u001b[0;34m\u001b[0m\u001b[0m\n\u001b[0m",
            "\u001b[0;31mRuntimeError\u001b[0m: unable to handle error"
          ]
        }
      ]
    },
    {
      "cell_type": "code",
      "source": [
        "# 8.6. User-defined Exceptions\n",
        "# Programs may name their own exceptions by creating a new exception class (see Classes for more about Python classes). Exceptions should typically be derived from\n",
        "# the Exception class, either directly or indirectly.\n",
        "\n",
        "# Exception classes can be defined which do anything any other class can do, but are usually kept simple, often only offering a number of attributes that allow\n",
        "# information about the error to be extracted by handlers for the exception.\n",
        "\n",
        "# Most exceptions are defined with names that end in “Error”, similar to the naming of the standard exceptions.\n",
        "# Many standard modules define their own exceptions to report errors that may occur in functions they define.\n"
      ],
      "metadata": {
        "id": "lJMB4fjx4NYb"
      },
      "execution_count": null,
      "outputs": []
    },
    {
      "cell_type": "code",
      "source": [
        "# 8.7. Defining Clean-up Actions\n",
        "# The try statement has another optional clause which is intended to define clean-up actions that must be executed under all circumstances. For example:\n",
        "try:\n",
        "    raise KeyboardInterrupt  #Program interupted by end user\n",
        "finally:\n",
        "    print('Goodbye, world!')"
      ],
      "metadata": {
        "colab": {
          "base_uri": "https://localhost:8080/",
          "height": 245
        },
        "id": "BNbCA8z74ctz",
        "outputId": "b9519b51-0dd6-48b2-d6b0-d8676f157890"
      },
      "execution_count": 19,
      "outputs": [
        {
          "output_type": "stream",
          "name": "stdout",
          "text": [
            "Goodbye, world!\n"
          ]
        },
        {
          "output_type": "error",
          "ename": "KeyboardInterrupt",
          "evalue": "",
          "traceback": [
            "\u001b[0;31m---------------------------------------------------------------------------\u001b[0m",
            "\u001b[0;31mKeyboardInterrupt\u001b[0m                         Traceback (most recent call last)",
            "\u001b[0;32m/tmp/ipython-input-19-4145311274.py\u001b[0m in \u001b[0;36m<cell line: 0>\u001b[0;34m()\u001b[0m\n\u001b[1;32m      2\u001b[0m \u001b[0;31m# The try statement has another optional clause which is intended to define clean-up actions that must be executed under all circumstances. For example:\u001b[0m\u001b[0;34m\u001b[0m\u001b[0;34m\u001b[0m\u001b[0m\n\u001b[1;32m      3\u001b[0m \u001b[0;32mtry\u001b[0m\u001b[0;34m:\u001b[0m\u001b[0;34m\u001b[0m\u001b[0;34m\u001b[0m\u001b[0m\n\u001b[0;32m----> 4\u001b[0;31m     \u001b[0;32mraise\u001b[0m \u001b[0mKeyboardInterrupt\u001b[0m  \u001b[0;31m#Program interupted by end user\u001b[0m\u001b[0;34m\u001b[0m\u001b[0;34m\u001b[0m\u001b[0m\n\u001b[0m\u001b[1;32m      5\u001b[0m \u001b[0;32mfinally\u001b[0m\u001b[0;34m:\u001b[0m\u001b[0;34m\u001b[0m\u001b[0;34m\u001b[0m\u001b[0m\n\u001b[1;32m      6\u001b[0m     \u001b[0mprint\u001b[0m\u001b[0;34m(\u001b[0m\u001b[0;34m'Goodbye, world!'\u001b[0m\u001b[0;34m)\u001b[0m\u001b[0;34m\u001b[0m\u001b[0;34m\u001b[0m\u001b[0m\n",
            "\u001b[0;31mKeyboardInterrupt\u001b[0m: "
          ]
        }
      ]
    },
    {
      "cell_type": "code",
      "source": [
        "# If a finally clause is present, the finally clause will execute as the last task before the try statement completes. The finally clause runs whether or not\n",
        "# the try statement produces an exception. The following points discuss more complex cases when an exception occurs:\n",
        "def bool_return():\n",
        "    try:\n",
        "        return True\n",
        "    finally:\n",
        "        return False\n",
        "\n",
        "bool_return()"
      ],
      "metadata": {
        "colab": {
          "base_uri": "https://localhost:8080/"
        },
        "id": "zugO4AX_5L-Y",
        "outputId": "50c9d9ef-2657-4927-feaf-4aba5f83d481"
      },
      "execution_count": 24,
      "outputs": [
        {
          "output_type": "execute_result",
          "data": {
            "text/plain": [
              "False"
            ]
          },
          "metadata": {},
          "execution_count": 24
        }
      ]
    },
    {
      "cell_type": "code",
      "source": [
        "def divide(x, y):\n",
        "    try:\n",
        "        result = x / y\n",
        "    except ZeroDivisionError:\n",
        "        print(\"division by zero!\")\n",
        "    else:\n",
        "        print(\"result is\", result)\n",
        "# the finally clause is executed in any event\n",
        "    finally:\n",
        "        print(\"executing finally clause\")\n",
        "\n",
        "divide(2, 1)\n",
        "print(\"----------\")\n",
        "divide(2, 0)\n",
        "print(\"----------\")\n",
        "divide(\"2\", \"1\")"
      ],
      "metadata": {
        "colab": {
          "base_uri": "https://localhost:8080/",
          "height": 419
        },
        "id": "-Ju1j-B-5nC4",
        "outputId": "8e057d51-8fe2-47f8-825a-985aa824966a"
      },
      "execution_count": 28,
      "outputs": [
        {
          "output_type": "stream",
          "name": "stdout",
          "text": [
            "result is 2.0\n",
            "executing finally clause\n",
            "----------\n",
            "division by zero!\n",
            "executing finally clause\n",
            "----------\n",
            "executing finally clause\n"
          ]
        },
        {
          "output_type": "error",
          "ename": "TypeError",
          "evalue": "unsupported operand type(s) for /: 'str' and 'str'",
          "traceback": [
            "\u001b[0;31m---------------------------------------------------------------------------\u001b[0m",
            "\u001b[0;31mTypeError\u001b[0m                                 Traceback (most recent call last)",
            "\u001b[0;32m/tmp/ipython-input-28-1228120177.py\u001b[0m in \u001b[0;36m<cell line: 0>\u001b[0;34m()\u001b[0m\n\u001b[1;32m     13\u001b[0m \u001b[0mdivide\u001b[0m\u001b[0;34m(\u001b[0m\u001b[0;36m2\u001b[0m\u001b[0;34m,\u001b[0m \u001b[0;36m0\u001b[0m\u001b[0;34m)\u001b[0m\u001b[0;34m\u001b[0m\u001b[0;34m\u001b[0m\u001b[0m\n\u001b[1;32m     14\u001b[0m \u001b[0mprint\u001b[0m\u001b[0;34m(\u001b[0m\u001b[0;34m\"----------\"\u001b[0m\u001b[0;34m)\u001b[0m\u001b[0;34m\u001b[0m\u001b[0;34m\u001b[0m\u001b[0m\n\u001b[0;32m---> 15\u001b[0;31m \u001b[0mdivide\u001b[0m\u001b[0;34m(\u001b[0m\u001b[0;34m\"2\"\u001b[0m\u001b[0;34m,\u001b[0m \u001b[0;34m\"1\"\u001b[0m\u001b[0;34m)\u001b[0m\u001b[0;34m\u001b[0m\u001b[0;34m\u001b[0m\u001b[0m\n\u001b[0m",
            "\u001b[0;32m/tmp/ipython-input-28-1228120177.py\u001b[0m in \u001b[0;36mdivide\u001b[0;34m(x, y)\u001b[0m\n\u001b[1;32m      1\u001b[0m \u001b[0;32mdef\u001b[0m \u001b[0mdivide\u001b[0m\u001b[0;34m(\u001b[0m\u001b[0mx\u001b[0m\u001b[0;34m,\u001b[0m \u001b[0my\u001b[0m\u001b[0;34m)\u001b[0m\u001b[0;34m:\u001b[0m\u001b[0;34m\u001b[0m\u001b[0;34m\u001b[0m\u001b[0m\n\u001b[1;32m      2\u001b[0m     \u001b[0;32mtry\u001b[0m\u001b[0;34m:\u001b[0m\u001b[0;34m\u001b[0m\u001b[0;34m\u001b[0m\u001b[0m\n\u001b[0;32m----> 3\u001b[0;31m         \u001b[0mresult\u001b[0m \u001b[0;34m=\u001b[0m \u001b[0mx\u001b[0m \u001b[0;34m/\u001b[0m \u001b[0my\u001b[0m\u001b[0;34m\u001b[0m\u001b[0;34m\u001b[0m\u001b[0m\n\u001b[0m\u001b[1;32m      4\u001b[0m     \u001b[0;32mexcept\u001b[0m \u001b[0mZeroDivisionError\u001b[0m\u001b[0;34m:\u001b[0m\u001b[0;34m\u001b[0m\u001b[0;34m\u001b[0m\u001b[0m\n\u001b[1;32m      5\u001b[0m         \u001b[0mprint\u001b[0m\u001b[0;34m(\u001b[0m\u001b[0;34m\"division by zero!\"\u001b[0m\u001b[0;34m)\u001b[0m\u001b[0;34m\u001b[0m\u001b[0;34m\u001b[0m\u001b[0m\n",
            "\u001b[0;31mTypeError\u001b[0m: unsupported operand type(s) for /: 'str' and 'str'"
          ]
        }
      ]
    },
    {
      "cell_type": "code",
      "source": [
        "# 8.8. Predefined Clean-up Actions\n",
        "# Some objects define standard clean-up actions to be undertaken when the object is no longer needed, regardless of whether or not the operation using the object\n",
        "# succeeded or failed. Look at the following example, which tries to open a file and print its contents to the screen.\n",
        "for line in open(\"myfile.txt\"):\n",
        "    print(line, end=\"\")\n",
        "\n",
        "# The problem with this code is that it leaves the file open for an indeterminate amount of time after this part of the code has finished executing. This is not an\n",
        "# issue in simple scripts, but can be a problem for larger applications. The with statement allows objects like files to be used in a way that ensures they are\n",
        "# always cleaned up promptly and correctly."
      ],
      "metadata": {
        "colab": {
          "base_uri": "https://localhost:8080/",
          "height": 228
        },
        "id": "_o8XM4sr6RmB",
        "outputId": "cc5dafe7-27a8-4aee-e630-c0082f70ce57"
      },
      "execution_count": 30,
      "outputs": [
        {
          "output_type": "error",
          "ename": "FileNotFoundError",
          "evalue": "[Errno 2] No such file or directory: ''",
          "traceback": [
            "\u001b[0;31m---------------------------------------------------------------------------\u001b[0m",
            "\u001b[0;31mFileNotFoundError\u001b[0m                         Traceback (most recent call last)",
            "\u001b[0;32m/tmp/ipython-input-30-2188878558.py\u001b[0m in \u001b[0;36m<cell line: 0>\u001b[0;34m()\u001b[0m\n\u001b[1;32m      2\u001b[0m \u001b[0;31m# Some objects define standard clean-up actions to be undertaken when the object is no longer needed, regardless of whether or not the operation using the object\u001b[0m\u001b[0;34m\u001b[0m\u001b[0;34m\u001b[0m\u001b[0m\n\u001b[1;32m      3\u001b[0m \u001b[0;31m# succeeded or failed. Look at the following example, which tries to open a file and print its contents to the screen.\u001b[0m\u001b[0;34m\u001b[0m\u001b[0;34m\u001b[0m\u001b[0m\n\u001b[0;32m----> 4\u001b[0;31m \u001b[0;32mfor\u001b[0m \u001b[0mline\u001b[0m \u001b[0;32min\u001b[0m \u001b[0mopen\u001b[0m\u001b[0;34m(\u001b[0m\u001b[0;34m\"\"\u001b[0m\u001b[0;34m)\u001b[0m\u001b[0;34m:\u001b[0m\u001b[0;34m\u001b[0m\u001b[0;34m\u001b[0m\u001b[0m\n\u001b[0m\u001b[1;32m      5\u001b[0m     \u001b[0mprint\u001b[0m\u001b[0;34m(\u001b[0m\u001b[0mline\u001b[0m\u001b[0;34m,\u001b[0m \u001b[0mend\u001b[0m\u001b[0;34m=\u001b[0m\u001b[0;34m\"\"\u001b[0m\u001b[0;34m)\u001b[0m\u001b[0;34m\u001b[0m\u001b[0;34m\u001b[0m\u001b[0m\n\u001b[1;32m      6\u001b[0m \u001b[0;34m\u001b[0m\u001b[0m\n",
            "\u001b[0;31mFileNotFoundError\u001b[0m: [Errno 2] No such file or directory: ''"
          ]
        }
      ]
    },
    {
      "cell_type": "code",
      "source": [
        "# After the statement is executed, the file f is always closed, even if a problem was encountered while processing the lines. Objects which, like files,\n",
        "# provide predefined clean-up actions will indicate this in their documentation.\n",
        "with open(\"myfile.txt\") as f:\n",
        "    for line in f:\n",
        "        print(line, end=\"\")"
      ],
      "metadata": {
        "colab": {
          "base_uri": "https://localhost:8080/",
          "height": 176
        },
        "id": "kUF4jtnB6wdR",
        "outputId": "4b931043-46e7-4cd5-daf4-561467039f31"
      },
      "execution_count": 31,
      "outputs": [
        {
          "output_type": "error",
          "ename": "FileNotFoundError",
          "evalue": "[Errno 2] No such file or directory: 'myfile.txt'",
          "traceback": [
            "\u001b[0;31m---------------------------------------------------------------------------\u001b[0m",
            "\u001b[0;31mFileNotFoundError\u001b[0m                         Traceback (most recent call last)",
            "\u001b[0;32m/tmp/ipython-input-31-1483541945.py\u001b[0m in \u001b[0;36m<cell line: 0>\u001b[0;34m()\u001b[0m\n\u001b[0;32m----> 1\u001b[0;31m \u001b[0;32mwith\u001b[0m \u001b[0mopen\u001b[0m\u001b[0;34m(\u001b[0m\u001b[0;34m\"myfile.txt\"\u001b[0m\u001b[0;34m)\u001b[0m \u001b[0;32mas\u001b[0m \u001b[0mf\u001b[0m\u001b[0;34m:\u001b[0m\u001b[0;34m\u001b[0m\u001b[0;34m\u001b[0m\u001b[0m\n\u001b[0m\u001b[1;32m      2\u001b[0m     \u001b[0;32mfor\u001b[0m \u001b[0mline\u001b[0m \u001b[0;32min\u001b[0m \u001b[0mf\u001b[0m\u001b[0;34m:\u001b[0m\u001b[0;34m\u001b[0m\u001b[0;34m\u001b[0m\u001b[0m\n\u001b[1;32m      3\u001b[0m         \u001b[0mprint\u001b[0m\u001b[0;34m(\u001b[0m\u001b[0mline\u001b[0m\u001b[0;34m,\u001b[0m \u001b[0mend\u001b[0m\u001b[0;34m=\u001b[0m\u001b[0;34m\"\"\u001b[0m\u001b[0;34m)\u001b[0m\u001b[0;34m\u001b[0m\u001b[0;34m\u001b[0m\u001b[0m\n",
            "\u001b[0;31mFileNotFoundError\u001b[0m: [Errno 2] No such file or directory: 'myfile.txt'"
          ]
        }
      ]
    },
    {
      "cell_type": "code",
      "source": [
        "#8.9. Raising and Handling Multiple Unrelated Exceptions\n",
        "# There are situations where it is necessary to report several exceptions that have occurred. This is often the case in concurrency frameworks,\n",
        "# when several tasks may have failed in parallel, but there are also other use cases where it is desirable to continue execution and collect multiple\n",
        "# errors rather than raise the first exception.\n",
        "\n",
        "# The builtin ExceptionGroup wraps a list of exception instances so that they can be raised together. It is an exception itself, so it can be caught\n",
        "# like any other exception.\n",
        "def f():\n",
        "    excs = [OSError('error 1'), SystemError('error 2')]\n",
        "    raise ExceptionGroup('there were problems', excs)\n",
        "# f()\n",
        "\n",
        "try:\n",
        "    f()\n",
        "except Exception as e:\n",
        "    print(f'caught {type(e)}: e')"
      ],
      "metadata": {
        "colab": {
          "base_uri": "https://localhost:8080/"
        },
        "id": "p0om190d67Sr",
        "outputId": "01c42b82-bd4f-4b35-ddee-57146f25043c"
      },
      "execution_count": 33,
      "outputs": [
        {
          "output_type": "stream",
          "name": "stdout",
          "text": [
            "caught <class 'ExceptionGroup'>: e\n"
          ]
        }
      ]
    },
    {
      "cell_type": "code",
      "source": [
        "# By using except* instead of except, we can selectively handle only the exceptions in the group that match a certain type. In the following example,\n",
        "# which shows a nested exception group, each except* clause extracts from the group exceptions of a certain type while letting all other exceptions\n",
        "# propagate to other clauses and eventually to be reraised.\n",
        "def f():\n",
        "    raise ExceptionGroup(\n",
        "        \"group1\",\n",
        "        [\n",
        "            OSError(1),\n",
        "            SystemError(2),\n",
        "#Exception Groups, which help organize multiple errors into a single structure when dealing with concurrent operations like asyncio or\n",
        "# multi-threaded code.\n",
        "            ExceptionGroup(\n",
        "                \"group2\",\n",
        "                [\n",
        "                    OSError(3),\n",
        "                    RecursionError(4)\n",
        "                ]\n",
        "            )\n",
        "        ]\n",
        "    )\n",
        "\n",
        "try:\n",
        "    f()\n",
        "except* OSError as e:\n",
        "    print(\"There were OSErrors\")\n",
        "except* SystemError as e:\n",
        "    print(\"There were SystemErrors\")"
      ],
      "metadata": {
        "colab": {
          "base_uri": "https://localhost:8080/",
          "height": 106
        },
        "id": "TAH5bLKK8Crf",
        "outputId": "78255c7a-999e-410a-e8a6-bd830978a944"
      },
      "execution_count": 35,
      "outputs": [
        {
          "output_type": "error",
          "ename": "SyntaxError",
          "evalue": "expected 'except' or 'finally' block (ipython-input-35-872538189.py, line 22)",
          "traceback": [
            "\u001b[0;36m  File \u001b[0;32m\"/tmp/ipython-input-35-872538189.py\"\u001b[0;36m, line \u001b[0;32m22\u001b[0m\n\u001b[0;31m    \"except*\" OSError as e:\u001b[0m\n\u001b[0m    ^\u001b[0m\n\u001b[0;31mSyntaxError\u001b[0m\u001b[0;31m:\u001b[0m expected 'except' or 'finally' block\n"
          ]
        }
      ]
    },
    {
      "cell_type": "code",
      "source": [
        "# Note that the exceptions nested in an exception group must be instances, not types. This is because in practice the exceptions would typically be ones that have already\n",
        "# been raised and caught by the program, along the following pattern:\n",
        "# You need to pass actual exception objects (that have already been raised/caught), not just the class/type of exception.\n",
        "try:\n",
        "    raise ValueError(\"invalid value\")\n",
        "except ValueError as e:\n",
        "    # Create an ExceptionGroup with exception instances\n",
        "    group = ExceptionGroup(\"example group\", [e])\n",
        "    raise group"
      ],
      "metadata": {
        "colab": {
          "base_uri": "https://localhost:8080/",
          "height": 349
        },
        "id": "sDZlfTOV9NKJ",
        "outputId": "020a7457-8a46-4cee-dd22-a1bf9b1d74d0"
      },
      "execution_count": 36,
      "outputs": [
        {
          "output_type": "error",
          "ename": "ExceptionGroup",
          "evalue": "example group (1 sub-exception)",
          "traceback": [
            "\u001b[0;31m---------------------------------------------------------------------------\u001b[0m",
            "\u001b[0;31mValueError\u001b[0m                                Traceback (most recent call last)",
            "\u001b[0;32m/tmp/ipython-input-36-4102397986.py\u001b[0m in \u001b[0;36m<cell line: 0>\u001b[0;34m()\u001b[0m\n\u001b[1;32m      4\u001b[0m \u001b[0;32mtry\u001b[0m\u001b[0;34m:\u001b[0m\u001b[0;34m\u001b[0m\u001b[0;34m\u001b[0m\u001b[0m\n\u001b[0;32m----> 5\u001b[0;31m     \u001b[0;32mraise\u001b[0m \u001b[0mValueError\u001b[0m\u001b[0;34m(\u001b[0m\u001b[0;34m\"invalid value\"\u001b[0m\u001b[0;34m)\u001b[0m\u001b[0;34m\u001b[0m\u001b[0;34m\u001b[0m\u001b[0m\n\u001b[0m\u001b[1;32m      6\u001b[0m \u001b[0;32mexcept\u001b[0m \u001b[0mValueError\u001b[0m \u001b[0;32mas\u001b[0m \u001b[0me\u001b[0m\u001b[0;34m:\u001b[0m\u001b[0;34m\u001b[0m\u001b[0;34m\u001b[0m\u001b[0m\n",
            "\u001b[0;31mValueError\u001b[0m: invalid value",
            "\nDuring handling of the above exception, another exception occurred:\n",
            "\u001b[0;31mExceptionGroup\u001b[0m                            Traceback (most recent call last)",
            "\u001b[0;32m/tmp/ipython-input-36-4102397986.py\u001b[0m in \u001b[0;36m<cell line: 0>\u001b[0;34m()\u001b[0m\n\u001b[1;32m      7\u001b[0m     \u001b[0;31m# Create an ExceptionGroup with exception instances\u001b[0m\u001b[0;34m\u001b[0m\u001b[0;34m\u001b[0m\u001b[0m\n\u001b[1;32m      8\u001b[0m     \u001b[0mgroup\u001b[0m \u001b[0;34m=\u001b[0m \u001b[0mExceptionGroup\u001b[0m\u001b[0;34m(\u001b[0m\u001b[0;34m\"example group\"\u001b[0m\u001b[0;34m,\u001b[0m \u001b[0;34m[\u001b[0m\u001b[0me\u001b[0m\u001b[0;34m]\u001b[0m\u001b[0;34m)\u001b[0m\u001b[0;34m\u001b[0m\u001b[0;34m\u001b[0m\u001b[0m\n\u001b[0;32m----> 9\u001b[0;31m     \u001b[0;32mraise\u001b[0m \u001b[0mgroup\u001b[0m\u001b[0;34m\u001b[0m\u001b[0;34m\u001b[0m\u001b[0m\n\u001b[0m",
            "\u001b[0;31mExceptionGroup\u001b[0m: example group (1 sub-exception)"
          ]
        }
      ]
    },
    {
      "cell_type": "code",
      "source": [
        "# 8.10. Enriching Exceptions with Notes\n",
        "# When an exception is created in order to be raised, it is usually initialized with information that describes the error that has occurred.\n",
        "# There are cases where it is useful to add information after the exception was caught. For this purpose, exceptions have a method add_note(note)\n",
        "# that accepts a string and adds it to the exception’s notes list. The standard traceback rendering includes all notes, in the order they were\n",
        "# added, after the exception.\n",
        "try:\n",
        "    raise TypeError('bad type')\n",
        "except Exception as e:\n",
        "    e.add_note('Add some information')\n",
        "    e.add_note('Add some more information')\n",
        "    raise\n"
      ],
      "metadata": {
        "colab": {
          "base_uri": "https://localhost:8080/",
          "height": 211
        },
        "id": "UiKwWChv9khr",
        "outputId": "c29abc8d-5b5e-46c7-d370-7f61121916aa"
      },
      "execution_count": 37,
      "outputs": [
        {
          "output_type": "error",
          "ename": "TypeError",
          "evalue": "bad type",
          "traceback": [
            "\u001b[0;31m---------------------------------------------------------------------------\u001b[0m",
            "\u001b[0;31mTypeError\u001b[0m                                 Traceback (most recent call last)",
            "\u001b[0;32m/tmp/ipython-input-37-600896818.py\u001b[0m in \u001b[0;36m<cell line: 0>\u001b[0;34m()\u001b[0m\n\u001b[1;32m      5\u001b[0m \u001b[0;31m# added, after the exception.\u001b[0m\u001b[0;34m\u001b[0m\u001b[0;34m\u001b[0m\u001b[0m\n\u001b[1;32m      6\u001b[0m \u001b[0;32mtry\u001b[0m\u001b[0;34m:\u001b[0m\u001b[0;34m\u001b[0m\u001b[0;34m\u001b[0m\u001b[0m\n\u001b[0;32m----> 7\u001b[0;31m     \u001b[0;32mraise\u001b[0m \u001b[0mTypeError\u001b[0m\u001b[0;34m(\u001b[0m\u001b[0;34m'bad type'\u001b[0m\u001b[0;34m)\u001b[0m\u001b[0;34m\u001b[0m\u001b[0;34m\u001b[0m\u001b[0m\n\u001b[0m\u001b[1;32m      8\u001b[0m \u001b[0;32mexcept\u001b[0m \u001b[0mException\u001b[0m \u001b[0;32mas\u001b[0m \u001b[0me\u001b[0m\u001b[0;34m:\u001b[0m\u001b[0;34m\u001b[0m\u001b[0;34m\u001b[0m\u001b[0m\n\u001b[1;32m      9\u001b[0m     \u001b[0me\u001b[0m\u001b[0;34m.\u001b[0m\u001b[0madd_note\u001b[0m\u001b[0;34m(\u001b[0m\u001b[0;34m'Add some information'\u001b[0m\u001b[0;34m)\u001b[0m\u001b[0;34m\u001b[0m\u001b[0;34m\u001b[0m\u001b[0m\n",
            "\u001b[0;31mTypeError\u001b[0m: bad type"
          ]
        }
      ]
    }
  ]
}