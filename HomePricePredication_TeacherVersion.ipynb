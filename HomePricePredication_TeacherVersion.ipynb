{
 "cells": [
  {
   "attachments": {},
   "cell_type": "markdown",
   "id": "eb7fbe67-cdde-4fa3-ab68-a3f222ff4bd8",
   "metadata": {},
   "source": [
    "Model -> Home Price Predication (Linear Regression)\n",
    "1. Collect Data and Preprocess Dataset\n",
    "2. EDA (Exploratory Data Analysis)\n",
    "3. Features Exterction(selection)\n",
    "4. Extract Input and Output columns(Independed and Depended variables)\n",
    "5. Scalling\n",
    "6. Train Test Split (Divide data into training and testing)\n",
    "7. Train Model\n",
    "8. Select proper model (Evaluate the model)\n",
    "9. Deploy the model\n",
    "\n"
   ]
  },
  {
   "cell_type": "code",
   "execution_count": null,
   "id": "14fc76b9-d8c2-4dc6-b888-0249080587c5",
   "metadata": {},
   "outputs": [],
   "source": [
    "import pandas as pd"
   ]
  },
  {
   "cell_type": "code",
   "execution_count": null,
   "id": "c58fe756-2f2f-4db1-a9dc-c25138210327",
   "metadata": {},
   "outputs": [],
   "source": [
    "df=pd.read_csv(\"Home_Price_Dataset.csv\")"
   ]
  },
  {
   "cell_type": "code",
   "execution_count": null,
   "id": "d2a148c6-48f1-46d7-8b83-45ccfac16066",
   "metadata": {},
   "outputs": [],
   "source": [
    "df.head()"
   ]
  },
  {
   "cell_type": "code",
   "execution_count": null,
   "id": "401d54cf-43df-4d6e-a294-24ffe0039878",
   "metadata": {},
   "outputs": [],
   "source": [
    "# Dataset Info\n",
    "print(\"Shape:\", df.shape)\n",
    "print(\"\\nData Types:\\n\", df.dtypes)\n",
    "print(\"\\nMissing Values:\\n\", df.isnull().sum())"
   ]
  },
  {
   "cell_type": "code",
   "execution_count": null,
   "id": "556868a9-4115-45b8-a3a4-dda9e56b3b01",
   "metadata": {},
   "outputs": [],
   "source": [
    " # Preprocess \n",
    "df=df.drop('Sr_Number',axis='columns')\n",
    "type(df)"
   ]
  },
  {
   "cell_type": "code",
   "execution_count": null,
   "id": "770c2669-2279-43cc-8fa5-82b1134bda82",
   "metadata": {},
   "outputs": [],
   "source": [
    "# EDA\n",
    "# Find missing values \n",
    "# Data types of columns\n",
    "# value count of each columns \n",
    "# Check duplicate values\n",
    "print(\"\\n Missing Values:\\n\")\n",
    "print(df.isnull().sum())\n",
    "print(\"\\n Data type details of column:\\n\")\n",
    "print(df.dtypes)\n",
    "print(\"Duplicate values: \",df.duplicated().sum())"
   ]
  },
  {
   "cell_type": "code",
   "execution_count": null,
   "id": "b3e804bf-fb1d-4760-bb45-cc074d5f1ba8",
   "metadata": {},
   "outputs": [],
   "source": [
    "print(\"\\n Value count of Each columns:\\n\")\n",
    "print(\"Square Feet: \",df['Square_Feet'].value_counts())\n",
    "print(\"Price: \",df['Price'].value_counts())"
   ]
  },
  {
   "cell_type": "code",
   "execution_count": null,
   "id": "bcb3592d-4179-47b6-8fb2-0317ab61a25f",
   "metadata": {},
   "outputs": [],
   "source": [
    "X=df.drop('Price',axis='columns')\n",
    "y=df.drop('Square_Feet',axis='columns')"
   ]
  },
  {
   "cell_type": "code",
   "execution_count": null,
   "id": "6f8045d5-8e90-4449-af7a-9b13620dc8d2",
   "metadata": {},
   "outputs": [],
   "source": [
    "from sklearn.linear_model import LinearRegression"
   ]
  },
  {
   "cell_type": "code",
   "execution_count": null,
   "id": "4d8fe4a7-b0f5-4fe7-abd1-34bbd540aefb",
   "metadata": {},
   "outputs": [],
   "source": [
    "model=LinearRegression()"
   ]
  },
  {
   "cell_type": "code",
   "execution_count": null,
   "id": "25b33ef7-4b44-49b0-9f36-a2a64f31b5a3",
   "metadata": {},
   "outputs": [],
   "source": [
    "model.fit(X,y)"
   ]
  },
  {
   "cell_type": "code",
   "execution_count": null,
   "id": "f7cf6fbf-e951-4457-aed8-9b2bd82e05b8",
   "metadata": {},
   "outputs": [],
   "source": [
    "model.predict([[2500]])"
   ]
  },
  {
   "cell_type": "code",
   "execution_count": null,
   "id": "7e720f52-e5f0-45d7-ba98-bd2230955f3a",
   "metadata": {},
   "outputs": [],
   "source": [
    "from sklearn.model_selection import train_test_split\n",
    "X_train,X_test,y_train,y_test=train_test_split(X,y,test_size=20)"
   ]
  },
  {
   "cell_type": "code",
   "execution_count": null,
   "id": "88a18e3f-701e-41c9-9fa4-f2416a2729e0",
   "metadata": {},
   "outputs": [],
   "source": [
    "len(X_train)"
   ]
  },
  {
   "cell_type": "code",
   "execution_count": null,
   "id": "0a3bb0aa-9bef-466b-8592-91421f9dda48",
   "metadata": {},
   "outputs": [],
   "source": [
    "len(X_test)"
   ]
  },
  {
   "cell_type": "code",
   "execution_count": null,
   "id": "7afa5e1a-5b75-451c-b242-234cdda2e7d9",
   "metadata": {},
   "outputs": [],
   "source": [
    "len(y_train)"
   ]
  },
  {
   "cell_type": "code",
   "execution_count": null,
   "id": "757a074c-a095-490a-9088-ff507b5efd3c",
   "metadata": {},
   "outputs": [],
   "source": [
    "X_train.shape\n"
   ]
  },
  {
   "cell_type": "code",
   "execution_count": null,
   "id": "d31b5fc7-9481-4879-8260-aab88607df76",
   "metadata": {},
   "outputs": [],
   "source": [
    "X_train"
   ]
  },
  {
   "cell_type": "code",
   "execution_count": null,
   "id": "6f564c54-c004-4ac4-b3d9-61b781124263",
   "metadata": {},
   "outputs": [],
   "source": [
    "y_train"
   ]
  },
  {
   "cell_type": "code",
   "execution_count": null,
   "id": "eda6b1c7-6c78-4894-913b-ca08320a4037",
   "metadata": {},
   "outputs": [],
   "source": [
    "model.fit(X_train,y_train)"
   ]
  },
  {
   "cell_type": "code",
   "execution_count": null,
   "id": "159beb1f-9cae-405b-b832-b61c5132daa9",
   "metadata": {},
   "outputs": [],
   "source": [
    "y_pred=model.predict(X_test)"
   ]
  },
  {
   "cell_type": "code",
   "execution_count": null,
   "id": "38963ccd-23bb-4905-80de-25441d149546",
   "metadata": {},
   "outputs": [],
   "source": [
    "len(y_pred)"
   ]
  },
  {
   "cell_type": "code",
   "execution_count": null,
   "id": "77d97acd-e4e9-481d-bcb2-08e719ec4da0",
   "metadata": {},
   "outputs": [],
   "source": [
    "len(y_test)"
   ]
  },
  {
   "cell_type": "code",
   "execution_count": null,
   "id": "37f01f74-b3f2-4417-8a1d-2996dafc700d",
   "metadata": {},
   "outputs": [],
   "source": [
    "model.score(X_test,y_pred)"
   ]
  },
  {
   "cell_type": "code",
   "execution_count": null,
   "id": "a6332c52-182e-4e31-9116-9c5914a3b43b",
   "metadata": {},
   "outputs": [],
   "source": [
    "#model.predict([[2500]])\n",
    "model.predict(pd.DataFrame([[3400]], columns=[\"Square_Feet\"])) "
   ]
  },
  {
   "cell_type": "code",
   "execution_count": null,
   "id": "8e7037c0-c8c9-4555-bc88-b2a1b6220826",
   "metadata": {},
   "outputs": [],
   "source": [
    "m=model.coef_\n",
    "b=model.intercept_\n",
    "x=2500\n",
    "y=m*x+b\n",
    "y"
   ]
  },
  {
   "cell_type": "code",
   "execution_count": null,
   "id": "0829b6d0-9496-4c96-b679-0f4e31400a49",
   "metadata": {},
   "outputs": [],
   "source": []
  }
 ],
 "metadata": {
  "kernelspec": {
   "display_name": "Python 3 (ipykernel)",
   "language": "python",
   "name": "python3"
  },
  "language_info": {
   "codemirror_mode": {
    "name": "ipython",
    "version": 3
   },
   "file_extension": ".py",
   "mimetype": "text/x-python",
   "name": "python",
   "nbconvert_exporter": "python",
   "pygments_lexer": "ipython3",
   "version": "3.11.2"
  }
 },
 "nbformat": 4,
 "nbformat_minor": 5
}
